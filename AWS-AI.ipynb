{
 "cells": [
  {
   "cell_type": "code",
   "execution_count": null,
   "id": "c5e67dd5",
   "metadata": {},
   "outputs": [],
   "source": [
    "pip install boto3  opencv-python  cvzone  mediapipe  scikit-learn  numpy  pandas  matplotlib  urllib3"
   ]
  },
  {
   "cell_type": "code",
   "execution_count": 6,
   "id": "f05fe641-eec5-4d7a-88a8-d062d22f7bc1",
   "metadata": {},
   "outputs": [],
   "source": [
    "import cv2"
   ]
  },
  {
   "cell_type": "code",
   "execution_count": 68,
   "id": "4417a2e3-bdd9-4d62-9bb7-5f081bfe632a",
   "metadata": {},
   "outputs": [
    {
     "name": "stdout",
     "output_type": "stream",
     "text": [
      "True\n"
     ]
    }
   ],
   "source": [
    "cap = cv2.VideoCapture(0)\n",
    "\n",
    "status , photo = cap.read()\n",
    "print(status)\n"
   ]
  },
  {
   "cell_type": "code",
   "execution_count": 69,
   "id": "0f87efb5-e670-48a7-bc90-28ce5908bf29",
   "metadata": {},
   "outputs": [],
   "source": [
    "cv2.imshow(\"haha\",photo)\n",
    "cv2.waitKey(5000)\n",
    "cv2.destroyAllWindows()"
   ]
  },
  {
   "cell_type": "code",
   "execution_count": 70,
   "id": "fa7d5521-7799-4a74-8c59-a0d19080130c",
   "metadata": {},
   "outputs": [],
   "source": [
    "from cvzone.HandTrackingModule import HandDetector "
   ]
  },
  {
   "cell_type": "code",
   "execution_count": 71,
   "id": "ed2d4c5c-5071-40af-88c3-82a16bc9f0a0",
   "metadata": {},
   "outputs": [
    {
     "name": "stdout",
     "output_type": "stream",
     "text": [
      "[0, 0, 0, 0, 0]\n"
     ]
    }
   ],
   "source": [
    "detector = HandDetector()\n",
    "lmlist = detector.findHands(photo)\n",
    "handlmlist = lmlist[0][0]\n",
    "\n",
    "fingersup = detector.fingersUp(handlmlist)\n",
    "print(fingersup)\n"
   ]
  },
  {
   "cell_type": "code",
   "execution_count": 74,
   "id": "759f015b-8c11-4085-8591-6220cd9151b3",
   "metadata": {},
   "outputs": [],
   "source": [
    "import boto3 "
   ]
  },
  {
   "cell_type": "code",
   "execution_count": 75,
   "id": "8cbb7f54-d3c5-4c04-892d-a7a1b1c18b67",
   "metadata": {},
   "outputs": [],
   "source": [
    "def launchIt():\n",
    "    accessKey = \"AKIAYEK\"  #access key of your aws credentials\n",
    "    secretKey = \"TC4fJ6gBuIohy/jBhoZLtupWbsR2\"   #secret access key of your aws credentials\n",
    "    regionName = \"ap-south-1\"    #region in which you want to create vms\n",
    "    \n",
    "    myec2 = boto3.resource( \"ec2\", aws_access_key_id = accessKey , aws_secret_access_key = secretKey , region_name = regionName)\n",
    "\n",
    "    # Define instance details\n",
    "    instance_type = 't2.micro'\n",
    "    image_id = 'ami-0402e56c0a7afb78f' # Replace with a valid AMI ID\n",
    "    \n",
    "    # Launch the instance\n",
    "    response = myec2.create_instances(\n",
    "        ImageId=image_id,\n",
    "        InstanceType=instance_type,\n",
    "        MinCount=1,\n",
    "        MaxCount=1,\n",
    "    )\n",
    "\n"
   ]
  },
  {
   "cell_type": "code",
   "execution_count": 76,
   "id": "25935607-6326-451a-a77a-66c7e894fe17",
   "metadata": {},
   "outputs": [
    {
     "name": "stdout",
     "output_type": "stream",
     "text": [
      "no instance has launched\n"
     ]
    }
   ],
   "source": [
    "\n",
    "if(fingersup == [0,0,0,0,0]):\n",
    "    print(\"no instance has launched\")\n",
    "else:\n",
    "    for i in fingersup:\n",
    "        if i == 1:\n",
    "            launchIt()\n",
    "            print(\"launched a VM\")\n",
    "\n",
    "    "
   ]
  },
  {
   "cell_type": "code",
   "execution_count": null,
   "id": "da83c26b-760d-446c-9160-f94a01ab505d",
   "metadata": {},
   "outputs": [],
   "source": []
  }
 ],
 "metadata": {
  "kernelspec": {
   "display_name": "Python 3 (ipykernel)",
   "language": "python",
   "name": "python3"
  },
  "language_info": {
   "codemirror_mode": {
    "name": "ipython",
    "version": 3
   },
   "file_extension": ".py",
   "mimetype": "text/x-python",
   "name": "python",
   "nbconvert_exporter": "python",
   "pygments_lexer": "ipython3",
   "version": "3.12.7"
  }
 },
 "nbformat": 4,
 "nbformat_minor": 5
}
